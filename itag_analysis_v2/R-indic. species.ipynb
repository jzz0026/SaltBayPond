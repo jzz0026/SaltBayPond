{
 "cells": [
  {
   "cell_type": "code",
   "execution_count": 3,
   "metadata": {},
   "outputs": [],
   "source": [
    "options(width=110)\n",
    "\n",
    "library('biom')\n",
    "library('vegan')\n",
    "library('DESeq2')\n",
    "library('indicspecies')\n",
    "library(dplyr)\n"
   ]
  },
  {
   "cell_type": "code",
   "execution_count": 4,
   "metadata": {},
   "outputs": [
    {
     "data": {
      "text/html": [
       "<ol class=list-inline>\n",
       "\t<li>Historic</li>\n",
       "\t<li>Historic</li>\n",
       "\t<li>Historic</li>\n",
       "\t<li>Historic</li>\n",
       "\t<li>Historic</li>\n",
       "\t<li>Historic</li>\n",
       "\t<li>Restored</li>\n",
       "\t<li>Restored</li>\n",
       "\t<li>Restored</li>\n",
       "\t<li>Restored</li>\n",
       "\t<li>Restored</li>\n",
       "\t<li>Restored</li>\n",
       "\t<li>Salt_Pond</li>\n",
       "\t<li>Salt_Pond</li>\n",
       "\t<li>Salt_Pond</li>\n",
       "\t<li>Salt_Pond</li>\n",
       "\t<li>Salt_Pond</li>\n",
       "\t<li>Salt_Pond</li>\n",
       "\t<li>Salt_Pond</li>\n",
       "\t<li>Salt_Pond</li>\n",
       "\t<li>Salt_Pond</li>\n",
       "\t<li>Salt_Pond</li>\n",
       "\t<li>Salt_Pond</li>\n",
       "\t<li>Salt_Pond</li>\n",
       "</ol>\n",
       "\n",
       "<details>\n",
       "\t<summary style=display:list-item;cursor:pointer>\n",
       "\t\t<strong>Levels</strong>:\n",
       "\t</summary>\n",
       "\t<ol class=list-inline>\n",
       "\t\t<li>'Historic'</li>\n",
       "\t\t<li>'Restored'</li>\n",
       "\t\t<li>'Salt_Pond'</li>\n",
       "\t</ol>\n",
       "</details>"
      ],
      "text/latex": [
       "\\begin{enumerate*}\n",
       "\\item Historic\n",
       "\\item Historic\n",
       "\\item Historic\n",
       "\\item Historic\n",
       "\\item Historic\n",
       "\\item Historic\n",
       "\\item Restored\n",
       "\\item Restored\n",
       "\\item Restored\n",
       "\\item Restored\n",
       "\\item Restored\n",
       "\\item Restored\n",
       "\\item Salt\\_Pond\n",
       "\\item Salt\\_Pond\n",
       "\\item Salt\\_Pond\n",
       "\\item Salt\\_Pond\n",
       "\\item Salt\\_Pond\n",
       "\\item Salt\\_Pond\n",
       "\\item Salt\\_Pond\n",
       "\\item Salt\\_Pond\n",
       "\\item Salt\\_Pond\n",
       "\\item Salt\\_Pond\n",
       "\\item Salt\\_Pond\n",
       "\\item Salt\\_Pond\n",
       "\\end{enumerate*}\n",
       "\n",
       "\\emph{Levels}: \\begin{enumerate*}\n",
       "\\item 'Historic'\n",
       "\\item 'Restored'\n",
       "\\item 'Salt\\_Pond'\n",
       "\\end{enumerate*}\n"
      ],
      "text/markdown": [
       "1. Historic\n",
       "2. Historic\n",
       "3. Historic\n",
       "4. Historic\n",
       "5. Historic\n",
       "6. Historic\n",
       "7. Restored\n",
       "8. Restored\n",
       "9. Restored\n",
       "10. Restored\n",
       "11. Restored\n",
       "12. Restored\n",
       "13. Salt_Pond\n",
       "14. Salt_Pond\n",
       "15. Salt_Pond\n",
       "16. Salt_Pond\n",
       "17. Salt_Pond\n",
       "18. Salt_Pond\n",
       "19. Salt_Pond\n",
       "20. Salt_Pond\n",
       "21. Salt_Pond\n",
       "22. Salt_Pond\n",
       "23. Salt_Pond\n",
       "24. Salt_Pond\n",
       "\n",
       "\n",
       "\n",
       "**Levels**: 1. 'Historic'\n",
       "2. 'Restored'\n",
       "3. 'Salt_Pond'\n",
       "\n",
       "\n"
      ],
      "text/plain": [
       " [1] Historic  Historic  Historic  Historic  Historic  Historic  Restored  Restored  Restored  Restored \n",
       "[11] Restored  Restored  Salt_Pond Salt_Pond Salt_Pond Salt_Pond Salt_Pond Salt_Pond Salt_Pond Salt_Pond\n",
       "[21] Salt_Pond Salt_Pond Salt_Pond Salt_Pond\n",
       "Levels: Historic Restored Salt_Pond"
      ]
     },
     "metadata": {},
     "output_type": "display_data"
    }
   ],
   "source": [
    "# load biom file\n",
    "OTU.biom <- read_biom(\"/Users/jzz0026/Documents/GitHub/SaltBayPond/itag_analysis_v2/OTU_counts_nomalized.biom\") #'OTU_table.biom'\n",
    "\n",
    "# Extract data matrix (OTU counts) from biom table\n",
    "OTU <- as.matrix(biom_data(OTU.biom))\n",
    "    \n",
    "# transpose so that rows are samples and columns are genera\n",
    "OTU <- t(OTU)\n",
    "\n",
    "# load mapping file\n",
    "map <- read.table('/Users/jzz0026/Google_superjohnlove/jupyter/Salt_pond_v2/itag_analysis/Salt_pond_ALL_Meta_whh.txt', sep='\\t', comment='', head=T, row.names=3)\n",
    "\n",
    "# find the overlapping samples\n",
    "common.ids <- intersect(rownames(map), rownames(OTU))\n",
    "\n",
    "# get just the overlapping samples\n",
    "OTU <- OTU[common.ids,]\n",
    "map <- map[common.ids,]\n",
    "Restoration <- map$Restoration\n",
    "Restoration"
   ]
  },
  {
   "cell_type": "markdown",
   "metadata": {},
   "source": [
    "## run indic.species"
   ]
  },
  {
   "cell_type": "code",
   "execution_count": 6,
   "metadata": {
    "collapsed": true
   },
   "outputs": [],
   "source": [
    "OTU_t <- as.data.frame(OTU)\n",
    "indicatorsp_soil_16s <- multipatt(OTU_t, Restoration, func = \"r.g\",control=how(nperm=9999))"
   ]
  },
  {
   "cell_type": "code",
   "execution_count": 9,
   "metadata": {
    "scrolled": false
   },
   "outputs": [],
   "source": [
    "## save result as csv\n",
    "identified_OTU <- indicatorsp_soil_16s$sign\n",
    "#identified_OTU_f <- filter(identified_OTU,p.value < 0.001)\n",
    "#dim(identified_OTU_f)\n",
    "write.csv(identified_OTU, file = \"indic_species_result.csv\")"
   ]
  }
 ],
 "metadata": {
  "kernelspec": {
   "display_name": "R",
   "language": "R",
   "name": "ir"
  },
  "language_info": {
   "codemirror_mode": "r",
   "file_extension": ".r",
   "mimetype": "text/x-r-source",
   "name": "R",
   "pygments_lexer": "r",
   "version": "3.4.3"
  }
 },
 "nbformat": 4,
 "nbformat_minor": 2
}
