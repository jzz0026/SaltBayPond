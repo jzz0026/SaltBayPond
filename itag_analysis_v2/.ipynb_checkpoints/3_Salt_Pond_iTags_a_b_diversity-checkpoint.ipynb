{
 "cells": [
  {
   "cell_type": "code",
   "execution_count": 3,
   "metadata": {},
   "outputs": [
    {
     "name": "stdout",
     "output_type": "stream",
     "text": [
      "/Users/jzz0026/Google_superjohnlove/jupyter/Salt_pond_v2/itag_analysis/itag_analysis_v2\r\n"
     ]
    }
   ],
   "source": [
    "import pandas as pd\n",
    "import numpy as np\n",
    "import seaborn as sns\n",
    "import matplotlib.pyplot as plt\n",
    "from scipy import stats\n",
    "import statsmodels.stats.multitest as smt\n",
    "%matplotlib inline\n",
    "plt.style.use('seaborn')\n",
    "!pwd"
   ]
  },
  {
   "cell_type": "code",
   "execution_count": 4,
   "metadata": {},
   "outputs": [],
   "source": [
    "dft = pd.read_csv(\"./arare/alpha_div_collated/shannon.txt\",sep=\"\\t\")\n",
    "dft = dft.replace(\"n/a\",np.nan)\n",
    "sample_col = dft.columns[3:]\n",
    "dft[sample_col] = dft[sample_col].astype(\"float\")\n",
    "dft2 = dft.groupby([\"sequences per sample\"])[sample_col].mean()\n",
    "tt = []\n",
    "for each in sample_col:\n",
    "    tt.append(dft2.loc[dft2[each].last_valid_index(),each])\n",
    "    \n",
    "dft3 = pd.DataFrame(tt,sample_col).reset_index()\n",
    "dft3[\"type\"] = dft3[\"index\"].str.split(\"_\",expand=True)[0]\n",
    "dft3 = dft3.sort_values(\"type\",ascending=False)\n",
    "dft3[\"type2\"] = \"\"\n",
    "dft3.loc[dft3[\"type\"] == \"R1\",\"type2\"] = \"Salt_pond\"\n",
    "dft3.loc[dft3[\"type\"] == \"R2\",\"type2\"] = \"Salt_pond\"\n",
    "dft3.loc[dft3[\"type\"] == \"R2A\",\"type2\"] = \"Restored\"\n",
    "dft3.loc[dft3[\"type\"] == \"SF2\",\"type2\"] = \"Historic\""
   ]
  },
  {
   "cell_type": "code",
   "execution_count": null,
   "metadata": {
    "collapsed": true
   },
   "outputs": [],
   "source": []
  },
  {
   "cell_type": "code",
   "execution_count": 15,
   "metadata": {},
   "outputs": [
    {
     "data": {
      "text/plain": [
       "(array([  5.5,   6. ,   6.5,   7. ,   7.5,   8. ,   8.5,   9. ,   9.5,\n",
       "         10. ,  10.5]), <a list of 11 Text yticklabel objects>)"
      ]
     },
     "execution_count": 15,
     "metadata": {},
     "output_type": "execute_result"
    },
    {
     "data": {
      "image/png": "[encoded data removed]",
      "text/plain": [
       "<matplotlib.figure.Figure at 0x1a16bba860>"
      ]
     },
     "metadata": {},
     "output_type": "display_data"
    }
   ],
   "source": [
    "#my_pal = {\"Salt_pond\": \"g\", \"Restored\": \"b\", \"Historic\":\"m\"}\n",
    "plt.figure(figsize=(5,5))\n",
    "sns.boxplot(x=\"type2\",y=0,data=dft3)\n",
    "sns.swarmplot(x=\"type2\",y=0,data=dft3,color=\"black\", alpha=1)\n",
    "plt.ylabel(\"Shannon Index\",size=15)\n",
    "plt.xlabel(\"\")\n",
    "plt.xticks(fontsize = 15)\n",
    "plt.yticks(fontsize = 15)"
   ]
  },
  {
   "cell_type": "code",
   "execution_count": null,
   "metadata": {
    "collapsed": true
   },
   "outputs": [],
   "source": []
  },
  {
   "cell_type": "code",
   "execution_count": null,
   "metadata": {
    "collapsed": true
   },
   "outputs": [],
   "source": []
  }
 ],
 "metadata": {
  "kernelspec": {
   "display_name": "Python 3",
   "language": "python",
   "name": "python3"
  },
  "language_info": {
   "codemirror_mode": {
    "name": "ipython",
    "version": 3
   },
   "file_extension": ".py",
   "mimetype": "text/x-python",
   "name": "python",
   "nbconvert_exporter": "python",
   "pygments_lexer": "ipython3",
   "version": "3.6.3"
  }
 },
 "nbformat": 4,
 "nbformat_minor": 2
}
